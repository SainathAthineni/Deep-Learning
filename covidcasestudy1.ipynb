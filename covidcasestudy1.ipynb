{
 "cells": [
  {
   "cell_type": "code",
   "execution_count": null,
   "id": "af3eb339",
   "metadata": {},
   "outputs": [],
   "source": [
    "import os\n",
    "import numpy as np\n",
    "import cv2\n",
    "import matplotlib.pyplot as plt\n",
    "import seaborn as sns\n",
    "from sklearn.model_selection import train_test_split\n",
    "from sklearn.preprocessing import LabelBinarizer\n",
    "import tensorflow as tf \n",
    "from tensorflow.keras.models import Sequential, load_model\n",
    "from tensorflow.keras.layers import Dense, Flatten, Conv2D, MaxPooling2D, Dropout, BatchNormalization\n",
    "from sklearn.metrics import confusion_matrix, roc_auc_score, roc_curve, auc, roc_auc_score\n",
    "#from tensorflow.keras.preprocessing.image import ImageDataGenerator\n",
    "#from tensorflow.keras.callbacks import EarlyStopping"
   ]
  },
  {
   "cell_type": "code",
   "execution_count": 14,
   "id": "d06de401",
   "metadata": {},
   "outputs": [],
   "source": [
    "# Defining function to load the images\n",
    "def load_data(data1, img_size=(128, 128)):\n",
    "    images = []\n",
    "    labels = []\n",
    "    classes = ['COVID-19', 'Non-COVID', 'Normal']\n",
    "\n",
    "    for class_name in classes:\n",
    "        class_dir = os.path.join(data1, class_name, 'images')\n",
    "        \n",
    "        if not os.path.isdir(class_dir):\n",
    "            print(f\"Image directory {class_dir} does not exist.\")\n",
    "            continue\n",
    "        \n",
    "        for img_name in os.listdir(class_dir):\n",
    "            img_path = os.path.join(class_dir, img_name)\n",
    "            if os.path.isfile(img_path):\n",
    "                image = cv2.imread(img_path, cv2.IMREAD_GRAYSCALE)\n",
    "                if image is not None:\n",
    "                    image = cv2.resize(image, img_size)\n",
    "                    images.append(image)\n",
    "                    labels.append(class_name)\n",
    "                else:\n",
    "                    print(f\"Failed to read image {img_name} in {class_name}\")\n",
    "    \n",
    "    images = np.array(images).reshape(-1, img_size[0], img_size[1], 1)\n",
    "    return images, np.array(labels)\n",
    "data1 = \"C:/Users/chenn/Downloads/CovidXRayImages/Val\"\n",
    "#data1 = \"C:/Users/saina/OneDrive/Desktop/Deep Learning/Val\"\n",
    "images, labels = load_data(data1)"
   ]
  },
  {
   "cell_type": "code",
   "execution_count": 16,
   "id": "956cd2ef",
   "metadata": {},
   "outputs": [],
   "source": [
    "# Normalize images\n",
    "#normalizing the pixel values of the images \n",
    "#in raw form with pixel values with image range from 0 to 255.\n",
    "images = images / 255.0"
   ]
  },
  {
   "cell_type": "code",
   "execution_count": 17,
   "id": "975c6c37",
   "metadata": {},
   "outputs": [],
   "source": [
    "#  Split the data into training and testing sets\n",
    "X_train, X_test, y_train, y_test = train_test_split(images, labels, test_size=0.2, random_state=42)"
   ]
  },
  {
   "cell_type": "code",
   "execution_count": 18,
   "id": "e5db6a0b",
   "metadata": {},
   "outputs": [],
   "source": [
    "#converting the labels to onehot encoding\n",
    "# Initialize the LabelBinarizer\n",
    "lb = LabelBinarizer()\n",
    "# Fitting the LabelBinarizer to the training labels\n",
    "y_train = lb.fit_transform(y_train)\n",
    "#convert the test labels to one-hot encoding.\n",
    "y_test = lb.transform(y_test)"
   ]
  },
  {
   "cell_type": "code",
   "execution_count": null,
   "id": "ebbb2686",
   "metadata": {},
   "outputs": [],
   "source": [
    "# Data augmentation\n",
    "datagen = ImageDataGenerator(\n",
    "    rotation_range=10,\n",
    "    zoom_range=0.1,\n",
    "    width_shift_range=0.1,\n",
    "    height_shift_range=0.1,\n",
    "    horizontal_flip=True\n",
    ")\n",
    "datagen.fit(X_train)"
   ]
  },
  {
   "cell_type": "code",
   "execution_count": 7,
   "id": "cfd26ef6",
   "metadata": {},
   "outputs": [
    {
     "name": "stdout",
     "output_type": "stream",
     "text": [
      "Epoch 1/20\n",
      "136/136 [==============================] - 17s 104ms/step - loss: 1.3282 - accuracy: 0.4890 - val_loss: 1.3215 - val_accuracy: 0.4945\n",
      "Epoch 2/20\n",
      "136/136 [==============================] - 13s 97ms/step - loss: 1.0734 - accuracy: 0.5541 - val_loss: 0.7519 - val_accuracy: 0.6716\n",
      "Epoch 3/20\n",
      "136/136 [==============================] - 14s 103ms/step - loss: 0.9483 - accuracy: 0.5853 - val_loss: 0.7621 - val_accuracy: 0.6780\n",
      "Epoch 4/20\n",
      "136/136 [==============================] - 14s 102ms/step - loss: 0.8795 - accuracy: 0.6144 - val_loss: 0.7985 - val_accuracy: 0.6707\n",
      "Epoch 5/20\n",
      "136/136 [==============================] - 14s 99ms/step - loss: 0.8277 - accuracy: 0.6289 - val_loss: 0.7399 - val_accuracy: 0.6827\n",
      "Epoch 6/20\n",
      "136/136 [==============================] - 14s 102ms/step - loss: 0.8052 - accuracy: 0.6517 - val_loss: 0.7426 - val_accuracy: 0.6910\n",
      "Epoch 7/20\n",
      "136/136 [==============================] - 14s 100ms/step - loss: 0.8019 - accuracy: 0.6501 - val_loss: 0.7287 - val_accuracy: 0.7011\n",
      "Epoch 8/20\n",
      "136/136 [==============================] - 13s 99ms/step - loss: 0.7776 - accuracy: 0.6554 - val_loss: 0.7922 - val_accuracy: 0.6642\n",
      "Epoch 9/20\n",
      "136/136 [==============================] - 14s 101ms/step - loss: 0.7773 - accuracy: 0.6573 - val_loss: 0.8988 - val_accuracy: 0.6208\n",
      "Epoch 10/20\n",
      "136/136 [==============================] - 14s 100ms/step - loss: 0.7573 - accuracy: 0.6744 - val_loss: 0.7185 - val_accuracy: 0.6790\n",
      "Epoch 11/20\n",
      "136/136 [==============================] - 14s 103ms/step - loss: 0.7634 - accuracy: 0.6686 - val_loss: 1.1688 - val_accuracy: 0.4917\n",
      "Epoch 12/20\n",
      "136/136 [==============================] - 14s 105ms/step - loss: 0.7726 - accuracy: 0.6672 - val_loss: 1.3800 - val_accuracy: 0.4576\n",
      "Epoch 13/20\n",
      "136/136 [==============================] - 14s 103ms/step - loss: 0.7668 - accuracy: 0.6677 - val_loss: 0.9209 - val_accuracy: 0.5830\n",
      "Epoch 14/20\n",
      "136/136 [==============================] - 16s 117ms/step - loss: 0.7579 - accuracy: 0.6667 - val_loss: 0.9881 - val_accuracy: 0.5784\n",
      "Epoch 15/20\n",
      "136/136 [==============================] - 15s 107ms/step - loss: 0.7543 - accuracy: 0.6776 - val_loss: 1.0036 - val_accuracy: 0.6227\n",
      "Epoch 16/20\n",
      "136/136 [==============================] - 15s 114ms/step - loss: 0.7398 - accuracy: 0.6813 - val_loss: 1.1820 - val_accuracy: 0.5055\n",
      "Epoch 17/20\n",
      "136/136 [==============================] - 14s 104ms/step - loss: 0.7505 - accuracy: 0.6688 - val_loss: 0.9205 - val_accuracy: 0.5609\n",
      "Epoch 18/20\n",
      "136/136 [==============================] - 16s 114ms/step - loss: 0.7473 - accuracy: 0.6794 - val_loss: 0.7816 - val_accuracy: 0.6624\n",
      "Epoch 19/20\n",
      "136/136 [==============================] - 14s 106ms/step - loss: 0.7408 - accuracy: 0.6806 - val_loss: 0.8359 - val_accuracy: 0.6458\n",
      "Epoch 20/20\n",
      "136/136 [==============================] - 15s 110ms/step - loss: 0.7324 - accuracy: 0.6912 - val_loss: 0.9515 - val_accuracy: 0.5517\n"
     ]
    },
    {
     "data": {
      "text/plain": [
       "<keras.src.callbacks.History at 0x297a2ec83a0>"
      ]
     },
     "execution_count": 7,
     "metadata": {},
     "output_type": "execute_result"
    }
   ],
   "source": [
    "#Deep Neural Network (DNN)\n",
    "# Define DNN model with sequential container\n",
    "dnn = Sequential([\n",
    "    Flatten(input_shape=(128, 128, 1)),\n",
    "    Dense(512, activation='relu'),\n",
    "    BatchNormalization(),\n",
    "    Dropout(0.5),\n",
    "    Dense(256, activation='relu'),\n",
    "    BatchNormalization(),\n",
    "    Dropout(0.5),\n",
    "    Dense(128, activation='relu'),\n",
    "    BatchNormalization(),\n",
    "    Dropout(0.5),\n",
    "    Dense(3, activation='softmax')\n",
    "])\n",
    "# Compile the DNN model with Adam optimizer, categorical crossentropy loss, and accuracy metric\n",
    "dnn.compile(optimizer='adam', loss='categorical_crossentropy', metrics=['accuracy'])\n",
    "# Train the model\n",
    "dnn.fit(X_train, y_train, epochs=20, validation_data=(X_test, y_test))"
   ]
  },
  {
   "cell_type": "code",
   "execution_count": 8,
   "id": "9b7be071",
   "metadata": {},
   "outputs": [
    {
     "name": "stdout",
     "output_type": "stream",
     "text": [
      "34/34 [==============================] - 1s 22ms/step\n"
     ]
    }
   ],
   "source": [
    "# Generate probabilities for each class on the test data\n",
    "dnnprob = dnn.predict(X_test)"
   ]
  },
  {
   "cell_type": "code",
   "execution_count": 9,
   "id": "29cabc8a",
   "metadata": {},
   "outputs": [],
   "source": [
    "# Convert probabilities to class predictions\n",
    "dnnpred = np.argmax(dnnprob, axis=-1)"
   ]
  },
  {
   "cell_type": "code",
   "execution_count": 10,
   "id": "8110eb1e",
   "metadata": {},
   "outputs": [],
   "source": [
    "#compute the confusion matrix\n",
    "#dnn_predictions are the expected class labels of the DNN model\n",
    "dnn_confmatrix = confusion_matrix(np.argmax(y_test, axis=-1), dnnpred)"
   ]
  },
  {
   "cell_type": "code",
   "execution_count": 11,
   "id": "bcf32082",
   "metadata": {},
   "outputs": [],
   "source": [
    "\n",
    "class_names = ['COVID-19', 'Non-COVID', 'Normal']"
   ]
  },
  {
   "cell_type": "code",
   "execution_count": 12,
   "id": "7f174c58",
   "metadata": {},
   "outputs": [
    {
     "data": {
      "image/png": "[encoded data removed]",
      "text/plain": [
       "<Figure size 800x600 with 2 Axes>"
      ]
     },
     "metadata": {},
     "output_type": "display_data"
    }
   ],
   "source": [
    "# Plotting the confusion matrix for the DNN model\n",
    "plt.figure(figsize=(8, 6))\n",
    "sns.heatmap(dnn_confmatrix, annot=True, cmap='Blues', fmt='g', xticklabels=class_names, yticklabels=class_names)\n",
    "plt.xlabel('Predicted Labels')\n",
    "plt.ylabel('True Labels')\n",
    "plt.title('Confusion Matrix - DNN Model')\n",
    "plt.show()"
   ]
  },
  {
   "cell_type": "code",
   "execution_count": 13,
   "id": "7ad94c22",
   "metadata": {},
   "outputs": [],
   "source": [
    "dnn.save('coviddnn_model.keras')"
   ]
  },
  {
   "cell_type": "code",
   "execution_count": 14,
   "id": "271227c8",
   "metadata": {},
   "outputs": [
    {
     "name": "stdout",
     "output_type": "stream",
     "text": [
      "Epoch 1/20\n",
      "136/136 [==============================] - 90s 636ms/step - loss: 1.1114 - accuracy: 0.3446 - val_loss: 1.0913 - val_accuracy: 0.4668\n",
      "Epoch 2/20\n",
      "136/136 [==============================] - 83s 610ms/step - loss: 1.0366 - accuracy: 0.4660 - val_loss: 0.9409 - val_accuracy: 0.5747\n",
      "Epoch 3/20\n",
      "136/136 [==============================] - 72s 530ms/step - loss: 0.9622 - accuracy: 0.5562 - val_loss: 0.8586 - val_accuracy: 0.6190\n",
      "Epoch 4/20\n",
      "136/136 [==============================] - 61s 449ms/step - loss: 0.9183 - accuracy: 0.5781 - val_loss: 0.8599 - val_accuracy: 0.6734\n",
      "Epoch 5/20\n",
      "136/136 [==============================] - 63s 463ms/step - loss: 0.9106 - accuracy: 0.5800 - val_loss: 0.8607 - val_accuracy: 0.6430\n",
      "Epoch 6/20\n",
      "136/136 [==============================] - 64s 474ms/step - loss: 0.8590 - accuracy: 0.6144 - val_loss: 0.8621 - val_accuracy: 0.6135\n",
      "Epoch 7/20\n",
      "136/136 [==============================] - 63s 461ms/step - loss: 0.8340 - accuracy: 0.6372 - val_loss: 0.7632 - val_accuracy: 0.6707\n",
      "Epoch 8/20\n",
      "136/136 [==============================] - 66s 482ms/step - loss: 0.8113 - accuracy: 0.6453 - val_loss: 0.7368 - val_accuracy: 0.6734\n",
      "Epoch 9/20\n",
      "136/136 [==============================] - 64s 471ms/step - loss: 0.8066 - accuracy: 0.6511 - val_loss: 0.6664 - val_accuracy: 0.7297\n",
      "Epoch 10/20\n",
      "136/136 [==============================] - 63s 463ms/step - loss: 0.7833 - accuracy: 0.6704 - val_loss: 0.6200 - val_accuracy: 0.7500\n",
      "Epoch 11/20\n",
      "136/136 [==============================] - 453s 3s/step - loss: 0.7668 - accuracy: 0.6725 - val_loss: 0.7046 - val_accuracy: 0.7196\n",
      "Epoch 12/20\n",
      "136/136 [==============================] - 61s 449ms/step - loss: 0.7469 - accuracy: 0.6873 - val_loss: 0.6240 - val_accuracy: 0.7500\n",
      "Epoch 13/20\n",
      "136/136 [==============================] - 61s 447ms/step - loss: 0.7332 - accuracy: 0.6827 - val_loss: 0.6559 - val_accuracy: 0.7343\n",
      "Epoch 14/20\n",
      "136/136 [==============================] - 62s 457ms/step - loss: 0.7367 - accuracy: 0.6882 - val_loss: 0.6508 - val_accuracy: 0.7315\n",
      "Epoch 15/20\n",
      "136/136 [==============================] - 67s 493ms/step - loss: 0.7002 - accuracy: 0.7104 - val_loss: 0.5641 - val_accuracy: 0.7795\n",
      "Epoch 16/20\n",
      "136/136 [==============================] - 89s 658ms/step - loss: 0.7176 - accuracy: 0.6981 - val_loss: 0.6087 - val_accuracy: 0.7251\n",
      "Epoch 17/20\n",
      "136/136 [==============================] - 71s 518ms/step - loss: 0.7030 - accuracy: 0.7030 - val_loss: 0.5980 - val_accuracy: 0.7629\n",
      "Epoch 18/20\n",
      "136/136 [==============================] - 72s 528ms/step - loss: 0.7029 - accuracy: 0.7115 - val_loss: 0.5561 - val_accuracy: 0.7869\n",
      "Epoch 19/20\n",
      "136/136 [==============================] - 72s 530ms/step - loss: 0.6755 - accuracy: 0.7240 - val_loss: 0.5616 - val_accuracy: 0.7814\n",
      "Epoch 20/20\n",
      "136/136 [==============================] - 76s 558ms/step - loss: 0.6657 - accuracy: 0.7242 - val_loss: 0.6064 - val_accuracy: 0.7601\n"
     ]
    },
    {
     "data": {
      "text/plain": [
       "<keras.src.callbacks.History at 0x297a2ebc4f0>"
      ]
     },
     "execution_count": 14,
     "metadata": {},
     "output_type": "execute_result"
    }
   ],
   "source": [
    "#CNN Model\n",
    "cnn = Sequential([\n",
    "    Conv2D(32, (3, 3), activation='relu', input_shape=(128, 128, 1)),\n",
    "    MaxPooling2D((2, 2)),\n",
    "    Dropout(0.3),\n",
    "    Conv2D(64, (3, 3), activation='relu'),\n",
    "    MaxPooling2D((2, 2)),\n",
    "    Dropout(0.3),\n",
    "    Conv2D(128, (3, 3), activation='relu'),\n",
    "    MaxPooling2D((2, 2)),\n",
    "    Dropout(0.3),\n",
    "    Flatten(),\n",
    "    Dense(256, activation='relu'),\n",
    "    Dropout(0.5),\n",
    "    Dense(128, activation='relu'),\n",
    "    Dropout(0.5),\n",
    "    Dense(3, activation='softmax')\n",
    "])\n",
    "# Compile the CNN model with Adam optimizer, categorical crossentropy loss, and accuracy metric\n",
    "cnn.compile(optimizer='adam', loss='categorical_crossentropy', metrics=['accuracy'])\n",
    "# Training the model\n",
    "cnn.fit(datagen.flow(X_train, y_train, batch_size=32), epochs=20, validation_data=(X_test, y_test))"
   ]
  },
  {
   "cell_type": "code",
   "execution_count": 15,
   "id": "ebf5c43e",
   "metadata": {},
   "outputs": [
    {
     "name": "stdout",
     "output_type": "stream",
     "text": [
      "34/34 [==============================] - 3s 91ms/step\n"
     ]
    }
   ],
   "source": [
    "# Generate probabilities for each class on the test data\n",
    "cnnprobab = cnn.predict(X_test)"
   ]
  },
  {
   "cell_type": "code",
   "execution_count": 16,
   "id": "ae5ab2ec",
   "metadata": {},
   "outputs": [],
   "source": [
    "cnnpred = np.argmax(cnnprobab, axis=-1)"
   ]
  },
  {
   "cell_type": "code",
   "execution_count": 17,
   "id": "c88e480e",
   "metadata": {},
   "outputs": [],
   "source": [
    "cnn_confmatrix = confusion_matrix(np.argmax(y_test, axis=-1), cnnpred)"
   ]
  },
  {
   "cell_type": "code",
   "execution_count": 18,
   "id": "149f57ee",
   "metadata": {},
   "outputs": [
    {
     "data": {
      "image/png": "[encoded data removed]",
      "text/plain": [
       "<Figure size 800x600 with 2 Axes>"
      ]
     },
     "metadata": {},
     "output_type": "display_data"
    }
   ],
   "source": [
    "# Plotting the confusion matrix for the CNN model\n",
    "plt.figure(figsize=(8, 6))\n",
    "sns.heatmap(cnn_confmatrix, annot=True, cmap='Blues', fmt='g', xticklabels=class_names, yticklabels=class_names)\n",
    "plt.xlabel('Predicted Labels')\n",
    "plt.ylabel('True Labels')\n",
    "plt.title('Confusion Matrix - CNN Model')\n",
    "plt.show()"
   ]
  },
  {
   "cell_type": "code",
   "execution_count": 19,
   "id": "607fdf25",
   "metadata": {},
   "outputs": [],
   "source": [
    "cnn.save('covidcnn_model.keras')"
   ]
  },
  {
   "cell_type": "code",
   "execution_count": null,
   "id": "4677a1e7",
   "metadata": {},
   "outputs": [],
   "source": []
  }
 ],
 "metadata": {
  "kernelspec": {
   "display_name": "Python 3 (ipykernel)",
   "language": "python",
   "name": "python3"
  },
  "language_info": {
   "codemirror_mode": {
    "name": "ipython",
    "version": 3
   },
   "file_extension": ".py",
   "mimetype": "text/x-python",
   "name": "python",
   "nbconvert_exporter": "python",
   "pygments_lexer": "ipython3",
   "version": "3.12.4"
  }
 },
 "nbformat": 4,
 "nbformat_minor": 5
}
